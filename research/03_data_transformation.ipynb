{
 "cells": [
  {
   "cell_type": "code",
   "execution_count": 1,
   "metadata": {},
   "outputs": [],
   "source": [
    "import os"
   ]
  },
  {
   "cell_type": "code",
   "execution_count": 2,
   "metadata": {},
   "outputs": [
    {
     "data": {
      "text/plain": [
       "'c:\\\\Users\\\\karth\\\\ML_practice\\\\Projects\\\\EndToEnd_MLOps_Project\\\\research'"
      ]
     },
     "execution_count": 2,
     "metadata": {},
     "output_type": "execute_result"
    }
   ],
   "source": [
    "%pwd"
   ]
  },
  {
   "cell_type": "code",
   "execution_count": 3,
   "metadata": {},
   "outputs": [],
   "source": [
    "os.chdir(\"../\")"
   ]
  },
  {
   "cell_type": "code",
   "execution_count": 4,
   "metadata": {},
   "outputs": [
    {
     "data": {
      "text/plain": [
       "'c:\\\\Users\\\\karth\\\\ML_practice\\\\Projects\\\\EndToEnd_MLOps_Project'"
      ]
     },
     "execution_count": 4,
     "metadata": {},
     "output_type": "execute_result"
    }
   ],
   "source": [
    "%pwd"
   ]
  },
  {
   "cell_type": "code",
   "execution_count": 5,
   "metadata": {},
   "outputs": [],
   "source": [
    "from dataclasses import dataclass\n",
    "from pathlib import Path\n",
    "\n",
    "@dataclass(frozen=True)\n",
    "class DataTransformationConfig:\n",
    "    root_dir: Path\n",
    "    data_path: Path"
   ]
  },
  {
   "cell_type": "code",
   "execution_count": 6,
   "metadata": {},
   "outputs": [],
   "source": [
    "from src.ML_Project.constants import *\n",
    "from src.ML_Project.utils.common import read_yaml, create_directories"
   ]
  },
  {
   "cell_type": "code",
   "execution_count": 7,
   "metadata": {},
   "outputs": [],
   "source": [
    "class ConfigurationManager:\n",
    "    def __init__(\n",
    "        self,\n",
    "        config_filepath = CONFIG_FILE_PATH,\n",
    "        params_filepath = PARAMS_FILE_PATH,\n",
    "        schema_filepath = SCHEMA_FILE_PATH\n",
    "        ):\n",
    "            self.config = read_yaml(config_filepath)\n",
    "            self.params = read_yaml(params_filepath)\n",
    "            self.schema = read_yaml(schema_filepath)\n",
    "            create_directories([self.config.artifacts_root])\n",
    "\n",
    "    def get_data_transformation_config(self) -> DataTransformationConfig:\n",
    "          config = self.config.data_transformation\n",
    "          create_directories([config.root_dir])         \n",
    "\n",
    "          data_transformation_config = DataTransformationConfig(\n",
    "                root_dir= config.root_dir,\n",
    "                data_path= config.data_path\n",
    "          )\n",
    "          return data_transformation_config"
   ]
  },
  {
   "cell_type": "code",
   "execution_count": 15,
   "metadata": {},
   "outputs": [],
   "source": [
    "import os\n",
    "import pandas as pd\n",
    "import numpy as np\n",
    "from src.ML_Project import logger\n",
    "from sklearn.preprocessing import StandardScaler, OneHotEncoder\n",
    "from sklearn.model_selection import train_test_split\n",
    "import pickle"
   ]
  },
  {
   "cell_type": "code",
   "execution_count": 23,
   "metadata": {},
   "outputs": [],
   "source": [
    "class DataTransformation:\n",
    "    def __init__(self, config: DataTransformationConfig):\n",
    "        self.config = config\n",
    "\n",
    "    \"\"\"Note:- we can add any other data tranformations like Scaling, Encoding, PCA, etc...\"\"\"\n",
    " \n",
    "    def transform(self, data: pd.DataFrame):\n",
    "        # seperate target & features\n",
    "        target = data[[\"selling_price\"]]\n",
    "        data.drop([\"selling_price\"], axis=1, inplace=True)\n",
    "\n",
    "        # transform the \"year\" into \"Car's-age\" (age = current_year-year_of_car)\n",
    "        current_year = 2025\n",
    "        data[\"year\"] = current_year - data[\"year\"]\n",
    "        data.rename(columns={\"year\":\"age\"}, inplace=True)\n",
    "\n",
    "        num_cols = data.select_dtypes(include=[\"int64\",\"float64\"]).columns.tolist()\n",
    "        cat_cols = data.select_dtypes(include=[\"object\"]).columns.tolist()\n",
    "\n",
    "        # initialize Standard-Scaler for features & target seperately\n",
    "        feature_scaler = StandardScaler()\n",
    "        data[num_cols] = feature_scaler.fit_transform(data[num_cols])\n",
    "\n",
    "        target_scaler = StandardScaler()\n",
    "        target[\"selling_price\"] = target_scaler.fit_transform(target).reshape(-1,1)\n",
    "\n",
    "        logger.info(\"Numerical columns scaled successfully!\")\n",
    "\n",
    "        # initialize One-Hot-Encoder\n",
    "        encoder = OneHotEncoder(\n",
    "            drop=\"first\",\n",
    "            dtype=\"int64\",\n",
    "            sparse_output=False, \n",
    "            handle_unknown=\"ignore\"\n",
    "        )\n",
    "        # Perform Encoding on Categorical-columns\n",
    "        encoded_cat_cols = encoder.fit_transform(data[cat_cols])\n",
    "        encoded_cat_cols_df = pd.DataFrame(encoded_cat_cols, columns=encoder.get_feature_names_out())\n",
    "        \n",
    "        transformed_data = pd.concat([encoded_cat_cols_df, data[num_cols], target[[\"selling_price\"]]], axis=1)\n",
    "\n",
    "        logger.info(\"Categorical columns encoded successfully!\")\n",
    "\n",
    "        # save the Std-scaler as pickle file\n",
    "        with open(\"artifacts/data_transformation/features_std_scaler.pkl\", \"wb\") as scaler_file_path:\n",
    "            pickle.dump(feature_scaler, scaler_file_path)\n",
    "        with open(\"artifacts/data_transformation/target_std_scaler.pkl\", \"wb\") as scaler_file_path:\n",
    "            pickle.dump(target_scaler, scaler_file_path)\n",
    "\n",
    "        logger.info(\"Saving both Std-scalers as pickle files at artifacts...\")\n",
    " \n",
    "        # save the OHE-encoder as pickle file\n",
    "        with open(\"artifacts/data_transformation/OHE_encoder.pkl\", \"wb\") as encoder_file_path:\n",
    "            pickle.dump(encoder, encoder_file_path)\n",
    "        logger.info(\"Saving OHE-encoder to pickle file at artifacts...\")\n",
    "\n",
    "        return transformed_data  \n",
    "\n",
    "\n",
    "\n",
    "    def train_test_splitting(self):\n",
    "        data = pd.read_csv(self.config.data_path)\n",
    "\n",
    "        # transformations of data takes place before train-test split\n",
    "        data = self.transform(data)\n",
    "        \n",
    "        # split the data into train & test sets (80%-20%)\n",
    "        train, test = train_test_split(data, test_size=0.2, random_state=42)\n",
    "\n",
    "        train.to_csv(os.path.join(self.config.root_dir, \"train.csv\"), index=False)\n",
    "        test.to_csv(os.path.join(self.config.root_dir, \"test.csv\"), index=False)\n",
    "\n",
    "        logger.info(\"Splitted dataset into training & test sets\")\n",
    "        logger.info(train.shape)\n",
    "        logger.info(test.shape)\n",
    "\n",
    "        print(train.shape)\n",
    "        print(test.shape)"
   ]
  },
  {
   "cell_type": "code",
   "execution_count": 27,
   "metadata": {},
   "outputs": [
    {
     "name": "stdout",
     "output_type": "stream",
     "text": [
      "[2025-03-23 23:13:58,360: INFO: common: Yaml file:config\\config.yaml loaded successfully]\n",
      "[2025-03-23 23:13:58,362: INFO: common: Yaml file:params.yaml loaded successfully]\n",
      "[2025-03-23 23:13:58,364: INFO: common: Yaml file:schema.yaml loaded successfully]\n",
      "[2025-03-23 23:13:58,366: INFO: common: created directory at: artifacts]\n",
      "[2025-03-23 23:13:58,367: INFO: common: created directory at: artifacts/data_transformation]\n",
      "[2025-03-23 23:13:58,380: INFO: 4269204336: Numerical columns scaled successfully!]\n",
      "[2025-03-23 23:13:58,389: INFO: 4269204336: Categorical columns encoded successfully!]\n",
      "[2025-03-23 23:13:58,391: INFO: 4269204336: Saving both Std-scalers as pickle files at artifacts...]\n",
      "[2025-03-23 23:13:58,393: INFO: 4269204336: Saving OHE-encoder to pickle file at artifacts...]\n",
      "[2025-03-23 23:13:58,428: INFO: 4269204336: Splitted dataset into training & test sets]\n",
      "[2025-03-23 23:13:58,429: INFO: 4269204336: (3472, 42)]\n",
      "[2025-03-23 23:13:58,430: INFO: 4269204336: (868, 42)]\n",
      "(3472, 42)\n",
      "(868, 42)\n"
     ]
    }
   ],
   "source": [
    "try:\n",
    "    config = ConfigurationManager()\n",
    "    data_transformation_config = config.get_data_transformation_config()\n",
    "    data_transformation = DataTransformation(config=data_transformation_config)\n",
    "    data_transformation.train_test_splitting()\n",
    "except Exception as e:\n",
    "    raise e"
   ]
  },
  {
   "cell_type": "code",
   "execution_count": null,
   "metadata": {},
   "outputs": [],
   "source": []
  }
 ],
 "metadata": {
  "kernelspec": {
   "display_name": "venv",
   "language": "python",
   "name": "python3"
  },
  "language_info": {
   "codemirror_mode": {
    "name": "ipython",
    "version": 3
   },
   "file_extension": ".py",
   "mimetype": "text/x-python",
   "name": "python",
   "nbconvert_exporter": "python",
   "pygments_lexer": "ipython3",
   "version": "3.10.16"
  }
 },
 "nbformat": 4,
 "nbformat_minor": 2
}
